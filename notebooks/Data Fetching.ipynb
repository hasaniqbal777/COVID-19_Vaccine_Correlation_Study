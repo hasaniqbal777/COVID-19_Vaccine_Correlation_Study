{
 "cells": [
  {
   "cell_type": "markdown",
   "metadata": {},
   "source": [
    "# Importing Python packages"
   ]
  },
  {
   "cell_type": "code",
   "execution_count": null,
   "metadata": {},
   "outputs": [],
   "source": [
    "import pandas as pd"
   ]
  },
  {
   "cell_type": "markdown",
   "metadata": {},
   "source": [
    "# Fetching Data from Source\n",
    "\n",
    "https://www.ecdc.europa.eu/en/covid-19/data"
   ]
  },
  {
   "cell_type": "code",
   "execution_count": null,
   "metadata": {},
   "outputs": [],
   "source": [
    "# Fetching Cases/Deaths Data\n",
    "url = \"https://opendata.ecdc.europa.eu/covid19/nationalcasedeath/csv/data.csv\"\n",
    "pd.read_csv(url).to_csv(\"../data/raw_cases.csv\", index=False)\n",
    "\n",
    "# Fetching Cases (Age wise) Data\n",
    "url = \"https://opendata.ecdc.europa.eu/covid19/agecasesnational/csv/data.csv\"\n",
    "pd.read_csv(url).to_csv(\"../data/raw_cases_age.csv\", index=False)\n",
    "\n",
    "# Fetching Vaccines Data\n",
    "url = \"https://opendata.ecdc.europa.eu/covid19/vaccine_tracker/csv/data.csv\"\n",
    "pd.read_csv(url).to_csv(\"../data/raw_vaccines.csv\", index=False)\n",
    "\n",
    "# Fetching Variants (percentage) Data\n",
    "url = \"https://opendata.ecdc.europa.eu/covid19/virusvariant/csv/data.csv\"\n",
    "pd.read_csv(url).to_csv(\"../data/raw_variants.csv\", index=False)"
   ]
  }
 ],
 "metadata": {
  "language_info": {
   "name": "python"
  },
  "orig_nbformat": 4
 },
 "nbformat": 4,
 "nbformat_minor": 2
}
